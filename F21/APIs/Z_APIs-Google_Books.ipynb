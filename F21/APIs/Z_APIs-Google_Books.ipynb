{
 "cells": [
  {
   "cell_type": "code",
   "execution_count": null,
   "metadata": {},
   "outputs": [],
   "source": [
    "%matplotlib inline\n",
    "\n",
    "import matplotlib.pyplot as plt\n",
    "import requests\n",
    "import json\n",
    "from requests_oauthlib import OAuth1\n",
    "import getpass\n",
    "api_key = getpass.getpass()\n"
   ]
  },
  {
   "cell_type": "markdown",
   "metadata": {},
   "source": [
    "## Documentation\n",
    "https://developers.google.com/books/docs/v1/reference/?apix=true"
   ]
  },
  {
   "cell_type": "code",
   "execution_count": null,
   "metadata": {},
   "outputs": [],
   "source": [
    "auth = OAuth1(api_key)\n",
    "search_string = 'Woody Holton'\n",
    "url = 'https://www.googleapis.com/books/v1/volumes?q={}'.format(search_string)\n",
    "r = requests.get(url,  auth=auth)\n",
    "#j = json.dumps(r.json())\n",
    "#results = json.loads(j)\n",
    "results = r.json()\n"
   ]
  },
  {
   "cell_type": "code",
   "execution_count": null,
   "metadata": {},
   "outputs": [],
   "source": [
    "for book in results['items']:\n",
    "    print(book['volumeInfo']['title'], book['volumeInfo']['canonicalVolumeLink'])"
   ]
  },
  {
   "cell_type": "code",
   "execution_count": null,
   "metadata": {},
   "outputs": [],
   "source": [
    "for part in results['items'][0]:\n",
    "    print(part)"
   ]
  },
  {
   "cell_type": "code",
   "execution_count": null,
   "metadata": {},
   "outputs": [],
   "source": [
    "results['items'][0]['volumeInfo']['canonicalVolumeLink']"
   ]
  },
  {
   "cell_type": "code",
   "execution_count": null,
   "metadata": {},
   "outputs": [],
   "source": [
    "search_string = 'Quentin Skinner'\n",
    "url = 'https://www.googleapis.com/books/v1/volumes?q={}'.format(search_string)\n",
    "r = requests.get(url,  auth=auth)\n",
    "j = json.dumps(r.json())\n",
    "results = json.loads(j)\n",
    "for book in results['items']:\n",
    "    print(book['volumeInfo']['title'], book['accessInfo']['webReaderLink'])"
   ]
  },
  {
   "cell_type": "code",
   "execution_count": null,
   "metadata": {},
   "outputs": [],
   "source": []
  }
 ],
 "metadata": {
  "hide_input": false,
  "kernelspec": {
   "display_name": "Python 3",
   "language": "python",
   "name": "python3"
  },
  "language_info": {
   "codemirror_mode": {
    "name": "ipython",
    "version": 3
   },
   "file_extension": ".py",
   "mimetype": "text/x-python",
   "name": "python",
   "nbconvert_exporter": "python",
   "pygments_lexer": "ipython3",
   "version": "3.7.4"
  },
  "toc": {
   "base_numbering": 1,
   "nav_menu": {},
   "number_sections": true,
   "sideBar": true,
   "skip_h1_title": false,
   "title_cell": "Table of Contents",
   "title_sidebar": "Contents",
   "toc_cell": false,
   "toc_position": {},
   "toc_section_display": true,
   "toc_window_display": true
  }
 },
 "nbformat": 4,
 "nbformat_minor": 2
}
