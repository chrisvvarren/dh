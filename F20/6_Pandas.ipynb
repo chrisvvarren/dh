{
 "cells": [
  {
   "cell_type": "code",
   "execution_count": 1,
   "metadata": {},
   "outputs": [],
   "source": [
    "import pandas as pd\n",
    "from pathlib import Path\n",
    "import os\n",
    "import matplotlib.pyplot as plt\n",
    "%matplotlib inline"
   ]
  },
  {
   "cell_type": "markdown",
   "metadata": {},
   "source": [
    "## Objective\n",
    "* Let's Use the `pandas` Python Library to Explore some NHA Data"
   ]
  },
  {
   "cell_type": "markdown",
   "metadata": {},
   "source": [
    "## NHA passed along 7 files"
   ]
  },
  {
   "cell_type": "code",
   "execution_count": 2,
   "metadata": {},
   "outputs": [
    {
     "name": "stdout",
     "output_type": "stream",
     "text": [
      "0 /Users/user/Box/Teaching (CMU)/Intro to DH/F21 Intro to DH/dh/F20/NHA_files/ALA grantee libraries-for NHA.xlsx\n",
      "1 /Users/user/Box/Teaching (CMU)/Intro to DH/F21 Intro to DH/dh/F20/NHA_files/Copy of SI and Landmarks Participants FOIA Request.xlsx\n",
      "2 /Users/user/Box/Teaching (CMU)/Intro to DH/F21 Intro to DH/dh/F20/NHA_files/NEHontheRoad.xlsx\n",
      "3 /Users/user/Box/Teaching (CMU)/Intro to DH/F21 Intro to DH/dh/F20/NHA_files/Preservation Sites.xlsx\n",
      "4 /Users/user/Box/Teaching (CMU)/Intro to DH/F21 Intro to DH/dh/F20/NHA_files/Public Programs 2015-2019.xlsx\n",
      "5 /Users/user/Box/Teaching (CMU)/Intro to DH/F21 Intro to DH/dh/F20/NHA_files/Seminars, Institutes, and Landmarks Locations - Cleaned for Map.csv\n",
      "6 /Users/user/Box/Teaching (CMU)/Intro to DH/F21 Intro to DH/dh/F20/NHA_files/Seminars, Institutes, and Landmarks Locations - Cleaned.csv\n"
     ]
    }
   ],
   "source": [
    "files_loc = Path.cwd() / 'NHA_files/'\n",
    "files = [file for file in files_loc.iterdir()]\n",
    "for i, file in enumerate(files):\n",
    "    print(i,file)"
   ]
  },
  {
   "cell_type": "markdown",
   "metadata": {},
   "source": [
    "## We're going to use pandas `read_excel` and `read_csv` functions.  \n",
    "\n",
    "For more, don't forget you can always run `?pd.read_excel` or `?pd.read_csv` to see the documentation"
   ]
  },
  {
   "cell_type": "code",
   "execution_count": null,
   "metadata": {},
   "outputs": [],
   "source": [
    "df0 = pd.read_excel(str(files_loc) + '/ALA grantee libraries-for NHA.xlsx')\n",
    "df0.head(10)"
   ]
  },
  {
   "cell_type": "markdown",
   "metadata": {},
   "source": [
    "## It's often helpful just to know many of something there are in a column \n",
    "\n",
    "So let's take the `Project` column and see how many times different things appear.  We can do that telling which column to look at `df0['Project']` and then using the `value_counts()` method on that object.\n",
    "\n",
    "Then we can try it on a different column. \n"
   ]
  },
  {
   "cell_type": "code",
   "execution_count": null,
   "metadata": {},
   "outputs": [],
   "source": [
    "df0['Project'].value_counts()"
   ]
  },
  {
   "cell_type": "code",
   "execution_count": null,
   "metadata": {},
   "outputs": [],
   "source": [
    "df0['Institution'].value_counts()"
   ]
  },
  {
   "cell_type": "markdown",
   "metadata": {},
   "source": [
    "## Use the cell below to count the values in another column of your choosing."
   ]
  },
  {
   "cell_type": "code",
   "execution_count": null,
   "metadata": {},
   "outputs": [],
   "source": []
  },
  {
   "cell_type": "markdown",
   "metadata": {},
   "source": [
    "## To make this prettier and more legible, there's this trick using `pd.DataFrame()`\n",
    "\n",
    "`pd.DataFrame(df0['Project'].value_counts())`"
   ]
  },
  {
   "cell_type": "code",
   "execution_count": null,
   "metadata": {},
   "outputs": [],
   "source": [
    "pd.DataFrame(df0['Project'].value_counts())"
   ]
  },
  {
   "cell_type": "markdown",
   "metadata": {},
   "source": [
    "## Maybe it'd be nice to see a little chart\n",
    "\n",
    "We can do with with the little `plot()` function built into pandas"
   ]
  },
  {
   "cell_type": "code",
   "execution_count": null,
   "metadata": {},
   "outputs": [],
   "source": [
    "counts = df0['Project'].value_counts()\n",
    "counts.plot()"
   ]
  },
  {
   "cell_type": "markdown",
   "metadata": {},
   "source": [
    "## Oh, hmm\n",
    "\n",
    "This is handy to have for certain kinds of data, but what we really want here is somepthing like a horizontal bar chart so let's tell pandas that by saying `counts.plot(kind='barh')`"
   ]
  },
  {
   "cell_type": "code",
   "execution_count": null,
   "metadata": {},
   "outputs": [],
   "source": [
    "counts.plot(kind='barh')"
   ]
  },
  {
   "cell_type": "markdown",
   "metadata": {},
   "source": [
    "### How else could we plot that data? "
   ]
  },
  {
   "cell_type": "code",
   "execution_count": null,
   "metadata": {
    "scrolled": false
   },
   "outputs": [],
   "source": [
    "plot_kinds = ['line', 'bar' , 'barh' , 'hist' , 'box' ,'kde' ,'density', 'area' ,'pie', 'scatter', 'hexbin']\n",
    "for kind in plot_kinds:\n",
    "    plt.figure()\n",
    "    counts.plot(kind=kind)\n",
    "    "
   ]
  },
  {
   "cell_type": "markdown",
   "metadata": {},
   "source": [
    "## Now that we know how to do that, we can loop through all of the colums"
   ]
  },
  {
   "cell_type": "code",
   "execution_count": null,
   "metadata": {
    "scrolled": true
   },
   "outputs": [],
   "source": [
    "for column in df0.columns:\n",
    "    plt.figure()\n",
    "    print(column)\n",
    "    counts = df0[column].value_counts()\n",
    "    try:\n",
    "        counts = counts.iloc[0:15]\n",
    "        print(counts.iloc[0:15])\n",
    "        print('####################')\n",
    "        print()\n",
    "        counts.plot(kind='barh', title=column)\n",
    "        plt.show()\n",
    "    except:\n",
    "        print('nothing to plot')"
   ]
  },
  {
   "cell_type": "markdown",
   "metadata": {},
   "source": [
    "## That seems useful!  Let's turn it into a function!\n"
   ]
  },
  {
   "cell_type": "code",
   "execution_count": null,
   "metadata": {},
   "outputs": [],
   "source": [
    "\n",
    "def plot_each_column(pandas_dataframe):\n",
    "    for column in pandas_dataframe.columns:\n",
    "        plt.figure()\n",
    "        print(column)\n",
    "        counts = pandas_dataframe[column].value_counts()\n",
    "        counts = counts.iloc[0:15]\n",
    "        print(counts.iloc[0:15])\n",
    "        print('####################')\n",
    "        print()\n",
    "        try:\n",
    "            counts.plot(kind='barh', title=column)\n",
    "            plt.show()\n",
    "        except:\n",
    "            print('nothing to plot')\n"
   ]
  },
  {
   "cell_type": "code",
   "execution_count": null,
   "metadata": {},
   "outputs": [],
   "source": [
    "df1 = pd.read_excel(str(files_loc) + '/Copy of SI and Landmarks Participants FOIA Request.xlsx')\n",
    "df1.head()"
   ]
  },
  {
   "cell_type": "code",
   "execution_count": null,
   "metadata": {
    "scrolled": false
   },
   "outputs": [],
   "source": [
    "plot_each_column(df1)"
   ]
  },
  {
   "cell_type": "code",
   "execution_count": null,
   "metadata": {},
   "outputs": [],
   "source": []
  },
  {
   "cell_type": "code",
   "execution_count": null,
   "metadata": {},
   "outputs": [],
   "source": [
    "df2 = pd.read_excel(str(files_loc) + '/NEHontheRoad.xlsx')\n",
    "df2.head()"
   ]
  },
  {
   "cell_type": "code",
   "execution_count": null,
   "metadata": {},
   "outputs": [],
   "source": [
    "plot_each_column(df2)"
   ]
  },
  {
   "cell_type": "code",
   "execution_count": null,
   "metadata": {},
   "outputs": [],
   "source": [
    "df3 = pd.read_excel(str(files_loc) + '/Preservation Sites.xlsx')\n",
    "df3.head()"
   ]
  },
  {
   "cell_type": "code",
   "execution_count": null,
   "metadata": {},
   "outputs": [],
   "source": [
    "plot_each_column(df3)"
   ]
  },
  {
   "cell_type": "code",
   "execution_count": null,
   "metadata": {},
   "outputs": [],
   "source": [
    "df4 = pd.read_excel(str(files_loc) + '/Public Programs 2015-2019.xlsx')\n",
    "df4.head()"
   ]
  },
  {
   "cell_type": "code",
   "execution_count": null,
   "metadata": {},
   "outputs": [],
   "source": [
    "df5 = pd.read_csv(str(files_loc) + '/Seminars, Institutes, and Landmarks Locations - Cleaned for Map.csv')\n",
    "df5.head()\n",
    "\n",
    "\n"
   ]
  },
  {
   "cell_type": "code",
   "execution_count": null,
   "metadata": {},
   "outputs": [],
   "source": [
    "plot_each_column(df5)"
   ]
  },
  {
   "cell_type": "code",
   "execution_count": null,
   "metadata": {
    "scrolled": true
   },
   "outputs": [],
   "source": [
    "df6 = pd.read_csv(str(files_loc)+'/Seminars, Institutes, and Landmarks Locations - Cleaned.csv')\n",
    "df6.head()"
   ]
  },
  {
   "cell_type": "markdown",
   "metadata": {},
   "source": [
    "## YOUR CHALLENGE\n",
    "\n",
    "In the cell below, see if you can write three lines of code that will run our `plot_each_column()` function on all of our dataframes."
   ]
  },
  {
   "cell_type": "code",
   "execution_count": null,
   "metadata": {},
   "outputs": [],
   "source": []
  }
 ],
 "metadata": {
  "hide_input": false,
  "kernelspec": {
   "display_name": "Python 3",
   "language": "python",
   "name": "python3"
  },
  "language_info": {
   "codemirror_mode": {
    "name": "ipython",
    "version": 3
   },
   "file_extension": ".py",
   "mimetype": "text/x-python",
   "name": "python",
   "nbconvert_exporter": "python",
   "pygments_lexer": "ipython3",
   "version": "3.7.4"
  },
  "toc": {
   "base_numbering": 1,
   "nav_menu": {},
   "number_sections": true,
   "sideBar": true,
   "skip_h1_title": false,
   "title_cell": "Table of Contents",
   "title_sidebar": "Contents",
   "toc_cell": false,
   "toc_position": {},
   "toc_section_display": true,
   "toc_window_display": false
  }
 },
 "nbformat": 4,
 "nbformat_minor": 2
}
