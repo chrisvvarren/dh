{
 "cells": [
  {
   "cell_type": "code",
   "execution_count": 42,
   "metadata": {
    "hide_input": true
   },
   "outputs": [],
   "source": [
    "from IPython.display import Image\n",
    "from IPython.display import HTML"
   ]
  },
  {
   "cell_type": "code",
   "execution_count": 43,
   "metadata": {
    "hide_input": false,
    "scrolled": false
   },
   "outputs": [
    {
     "data": {
      "text/html": [
       "<img src=\"https://chronicle.brightspotcdn.com/dims4/default/7fc5e73/2147483647/strip/true/crop/2265x1510+188+0/resize/1680x1120!/format/webp/quality/90/?url=http%3A%2F%2Fchronicle-brightspot.s3.amazonaws.com%2F8c%2Fe5%2Fd17e4b412e92df0fc771e721e810%2F742e3895a26d056081ec9b77940dbbcc.jpg\"/>"
      ],
      "text/plain": [
       "<IPython.core.display.Image object>"
      ]
     },
     "execution_count": 43,
     "metadata": {},
     "output_type": "execute_result"
    }
   ],
   "source": [
    "Image(url='https://chronicle.brightspotcdn.com/dims4/default/7fc5e73/2147483647/strip/true/crop/2265x1510+188+0/resize/1680x1120!/format/webp/quality/90/?url=http%3A%2F%2Fchronicle-brightspot.s3.amazonaws.com%2F8c%2Fe5%2Fd17e4b412e92df0fc771e721e810%2F742e3895a26d056081ec9b77940dbbcc.jpg')"
   ]
  },
  {
   "cell_type": "markdown",
   "metadata": {},
   "source": [
    "# Introduction to Digital Humanities"
   ]
  },
  {
   "cell_type": "markdown",
   "metadata": {},
   "source": [
    "# Syllabus"
   ]
  },
  {
   "cell_type": "markdown",
   "metadata": {
    "toc": true
   },
   "source": [
    "<h1>Table of Contents<span class=\"tocSkip\"></span></h1>\n",
    "<div class=\"toc\"><ul class=\"toc-item\"><li><span><a href=\"#Introduction-to-Digital-Humanities\" data-toc-modified-id=\"Introduction-to-Digital-Humanities-1\"><span class=\"toc-item-num\">1&nbsp;&nbsp;</span>Introduction to Digital Humanities</a></span></li><li><span><a href=\"#Syllabus\" data-toc-modified-id=\"Syllabus-2\"><span class=\"toc-item-num\">2&nbsp;&nbsp;</span>Syllabus</a></span><ul class=\"toc-item\"><li><span><a href=\"#Course-Details\" data-toc-modified-id=\"Course-Details-2.1\"><span class=\"toc-item-num\">2.1&nbsp;&nbsp;</span>Course Details</a></span></li><li><span><a href=\"#Respect-for-Diversity\" data-toc-modified-id=\"Respect-for-Diversity-2.2\"><span class=\"toc-item-num\">2.2&nbsp;&nbsp;</span>Respect for Diversity</a></span></li><li><span><a href=\"#What-Students-Can-Expect-From-the-Course\" data-toc-modified-id=\"What-Students-Can-Expect-From-the-Course-2.3\"><span class=\"toc-item-num\">2.3&nbsp;&nbsp;</span>What Students Can Expect From the Course</a></span></li><li><span><a href=\"#How-Will-We-Know-if-We've-Succeeded?\" data-toc-modified-id=\"How-Will-We-Know-if-We've-Succeeded?-2.4\"><span class=\"toc-item-num\">2.4&nbsp;&nbsp;</span>How Will We Know if We've Succeeded?</a></span></li><li><span><a href=\"#Coping-with-the-Pandemic\" data-toc-modified-id=\"Coping-with-the-Pandemic-2.5\"><span class=\"toc-item-num\">2.5&nbsp;&nbsp;</span>Coping with the Pandemic</a></span></li><li><span><a href=\"#Software-and-Tools\" data-toc-modified-id=\"Software-and-Tools-2.6\"><span class=\"toc-item-num\">2.6&nbsp;&nbsp;</span>Software and Tools</a></span><ul class=\"toc-item\"><li><span><a href=\"#Resources\" data-toc-modified-id=\"Resources-2.6.1\"><span class=\"toc-item-num\">2.6.1&nbsp;&nbsp;</span>Resources</a></span></li></ul></li></ul></li><li><span><a href=\"#Key-Waypoints\" data-toc-modified-id=\"Key-Waypoints-3\"><span class=\"toc-item-num\">3&nbsp;&nbsp;</span>Key Waypoints</a></span></li><li><span><a href=\"#Collaboration-with-National-Humanities-Alliance\" data-toc-modified-id=\"Collaboration-with-National-Humanities-Alliance-4\"><span class=\"toc-item-num\">4&nbsp;&nbsp;</span>Collaboration with National Humanities Alliance</a></span></li><li><span><a href=\"#Preliminary-Schedule\" data-toc-modified-id=\"Preliminary-Schedule-5\"><span class=\"toc-item-num\">5&nbsp;&nbsp;</span>Preliminary Schedule</a></span></li><li><span><a href=\"#The-Most-Important-Secret-About-Digital-Humanities\" data-toc-modified-id=\"The-Most-Important-Secret-About-Digital-Humanities-6\"><span class=\"toc-item-num\">6&nbsp;&nbsp;</span>The Most Important Secret About Digital Humanities</a></span><ul class=\"toc-item\"><li><ul class=\"toc-item\"><li><span><a href=\"#TUESDAY-September-1,-2020\" data-toc-modified-id=\"TUESDAY-September-1,-2020-6.0.1\"><span class=\"toc-item-num\">6.0.1&nbsp;&nbsp;</span>TUESDAY September 1, 2020</a></span></li></ul></li><li><span><a href=\"#WEEK-1-KICKOFF-MEETING\" data-toc-modified-id=\"WEEK-1-KICKOFF-MEETING-6.1\"><span class=\"toc-item-num\">6.1&nbsp;&nbsp;</span>WEEK 1 KICKOFF MEETING</a></span><ul class=\"toc-item\"><li><span><a href=\"#THURSDAY-September-3,-2020\" data-toc-modified-id=\"THURSDAY-September-3,-2020-6.1.1\"><span class=\"toc-item-num\">6.1.1&nbsp;&nbsp;</span>THURSDAY September 3, 2020</a></span></li></ul></li><li><span><a href=\"#WEEKS-2-6-SKILL-BUILDING\" data-toc-modified-id=\"WEEKS-2-6-SKILL-BUILDING-6.2\"><span class=\"toc-item-num\">6.2&nbsp;&nbsp;</span>WEEKS 2-6 SKILL BUILDING</a></span><ul class=\"toc-item\"><li><span><a href=\"#TUESDAY-September-8,-2020\" data-toc-modified-id=\"TUESDAY-September-8,-2020-6.2.1\"><span class=\"toc-item-num\">6.2.1&nbsp;&nbsp;</span>TUESDAY September 8, 2020</a></span></li><li><span><a href=\"#THURSDAY-September-10,-2020\" data-toc-modified-id=\"THURSDAY-September-10,-2020-6.2.2\"><span class=\"toc-item-num\">6.2.2&nbsp;&nbsp;</span>THURSDAY September 10, 2020</a></span></li><li><span><a href=\"#TUESDAY-September-15,-2020\" data-toc-modified-id=\"TUESDAY-September-15,-2020-6.2.3\"><span class=\"toc-item-num\">6.2.3&nbsp;&nbsp;</span>TUESDAY September 15, 2020</a></span></li><li><span><a href=\"#THURSDAY-September-17,-2020\" data-toc-modified-id=\"THURSDAY-September-17,-2020-6.2.4\"><span class=\"toc-item-num\">6.2.4&nbsp;&nbsp;</span>THURSDAY September 17, 2020</a></span></li><li><span><a href=\"#TUESDAY-September-22,-2020\" data-toc-modified-id=\"TUESDAY-September-22,-2020-6.2.5\"><span class=\"toc-item-num\">6.2.5&nbsp;&nbsp;</span>TUESDAY September 22, 2020</a></span></li><li><span><a href=\"#THURSDAY-September-24,-2020\" data-toc-modified-id=\"THURSDAY-September-24,-2020-6.2.6\"><span class=\"toc-item-num\">6.2.6&nbsp;&nbsp;</span>THURSDAY September 24, 2020</a></span></li><li><span><a href=\"#TUESDAY-September-29,-2020\" data-toc-modified-id=\"TUESDAY-September-29,-2020-6.2.7\"><span class=\"toc-item-num\">6.2.7&nbsp;&nbsp;</span>TUESDAY September 29, 2020</a></span></li><li><span><a href=\"#THURSDAY-October-1,-2020\" data-toc-modified-id=\"THURSDAY-October-1,-2020-6.2.8\"><span class=\"toc-item-num\">6.2.8&nbsp;&nbsp;</span>THURSDAY October 1, 2020</a></span></li><li><span><a href=\"#TUESDAY-October-6,-2020\" data-toc-modified-id=\"TUESDAY-October-6,-2020-6.2.9\"><span class=\"toc-item-num\">6.2.9&nbsp;&nbsp;</span>TUESDAY October 6, 2020</a></span></li></ul></li><li><span><a href=\"#WEEK-6-PRESENTATIONS\" data-toc-modified-id=\"WEEK-6-PRESENTATIONS-6.3\"><span class=\"toc-item-num\">6.3&nbsp;&nbsp;</span>WEEK 6 PRESENTATIONS</a></span><ul class=\"toc-item\"><li><span><a href=\"#THURSDAY-October-8,-2020\" data-toc-modified-id=\"THURSDAY-October-8,-2020-6.3.1\"><span class=\"toc-item-num\">6.3.1&nbsp;&nbsp;</span>THURSDAY October 8, 2020</a></span></li></ul></li><li><span><a href=\"#WEEKS-7-14-ITERATIVE-BUILDING\" data-toc-modified-id=\"WEEKS-7-14-ITERATIVE-BUILDING-6.4\"><span class=\"toc-item-num\">6.4&nbsp;&nbsp;</span>WEEKS 7-14 ITERATIVE BUILDING</a></span><ul class=\"toc-item\"><li><span><a href=\"#TUESDAY-October-13,-2020\" data-toc-modified-id=\"TUESDAY-October-13,-2020-6.4.1\"><span class=\"toc-item-num\">6.4.1&nbsp;&nbsp;</span>TUESDAY October 13, 2020</a></span></li><li><span><a href=\"#THURSDAY-October-15,-2020\" data-toc-modified-id=\"THURSDAY-October-15,-2020-6.4.2\"><span class=\"toc-item-num\">6.4.2&nbsp;&nbsp;</span>THURSDAY October 15, 2020</a></span></li><li><span><a href=\"#TUESDAY-October-20,-2020\" data-toc-modified-id=\"TUESDAY-October-20,-2020-6.4.3\"><span class=\"toc-item-num\">6.4.3&nbsp;&nbsp;</span>TUESDAY October 20, 2020</a></span></li><li><span><a href=\"#THURSDAY-October-22,-2020\" data-toc-modified-id=\"THURSDAY-October-22,-2020-6.4.4\"><span class=\"toc-item-num\">6.4.4&nbsp;&nbsp;</span>THURSDAY October 22, 2020</a></span></li><li><span><a href=\"#TUESDAY-October-27,-2020\" data-toc-modified-id=\"TUESDAY-October-27,-2020-6.4.5\"><span class=\"toc-item-num\">6.4.5&nbsp;&nbsp;</span>TUESDAY October 27, 2020</a></span></li><li><span><a href=\"#THURSDAY-October-29,-2020\" data-toc-modified-id=\"THURSDAY-October-29,-2020-6.4.6\"><span class=\"toc-item-num\">6.4.6&nbsp;&nbsp;</span>THURSDAY October 29, 2020</a></span></li><li><span><a href=\"#TUESDAY-November-3,-2020\" data-toc-modified-id=\"TUESDAY-November-3,-2020-6.4.7\"><span class=\"toc-item-num\">6.4.7&nbsp;&nbsp;</span>TUESDAY November 3, 2020</a></span></li><li><span><a href=\"#THURSDAY-November-5,-2020\" data-toc-modified-id=\"THURSDAY-November-5,-2020-6.4.8\"><span class=\"toc-item-num\">6.4.8&nbsp;&nbsp;</span>THURSDAY November 5, 2020</a></span></li><li><span><a href=\"#TUESDAY-November-10,-2020\" data-toc-modified-id=\"TUESDAY-November-10,-2020-6.4.9\"><span class=\"toc-item-num\">6.4.9&nbsp;&nbsp;</span>TUESDAY November 10, 2020</a></span></li><li><span><a href=\"#THURSDAY-November-12,-2020\" data-toc-modified-id=\"THURSDAY-November-12,-2020-6.4.10\"><span class=\"toc-item-num\">6.4.10&nbsp;&nbsp;</span>THURSDAY November 12, 2020</a></span></li><li><span><a href=\"#TUESDAY-November-17,-2020\" data-toc-modified-id=\"TUESDAY-November-17,-2020-6.4.11\"><span class=\"toc-item-num\">6.4.11&nbsp;&nbsp;</span>TUESDAY November 17, 2020</a></span></li><li><span><a href=\"#THURSDAY-November-19,-2020\" data-toc-modified-id=\"THURSDAY-November-19,-2020-6.4.12\"><span class=\"toc-item-num\">6.4.12&nbsp;&nbsp;</span>THURSDAY November 19, 2020</a></span></li><li><span><a href=\"#TUESDAY-November-24,-2020\" data-toc-modified-id=\"TUESDAY-November-24,-2020-6.4.13\"><span class=\"toc-item-num\">6.4.13&nbsp;&nbsp;</span>TUESDAY November 24, 2020</a></span></li><li><span><a href=\"#THURSDAY-November-26,-2020\" data-toc-modified-id=\"THURSDAY-November-26,-2020-6.4.14\"><span class=\"toc-item-num\">6.4.14&nbsp;&nbsp;</span>THURSDAY November 26, 2020</a></span></li><li><span><a href=\"#TUESDAY-December-1,-2020\" data-toc-modified-id=\"TUESDAY-December-1,-2020-6.4.15\"><span class=\"toc-item-num\">6.4.15&nbsp;&nbsp;</span>TUESDAY December 1, 2020</a></span></li><li><span><a href=\"#THURSDAY-December-3,-2020\" data-toc-modified-id=\"THURSDAY-December-3,-2020-6.4.16\"><span class=\"toc-item-num\">6.4.16&nbsp;&nbsp;</span>THURSDAY December 3, 2020</a></span></li></ul></li><li><span><a href=\"#WEEK-15-FINAL-PRESENTATIONS\" data-toc-modified-id=\"WEEK-15-FINAL-PRESENTATIONS-6.5\"><span class=\"toc-item-num\">6.5&nbsp;&nbsp;</span>WEEK 15 FINAL PRESENTATIONS</a></span><ul class=\"toc-item\"><li><span><a href=\"#TUESDAY-December-8,-2020\" data-toc-modified-id=\"TUESDAY-December-8,-2020-6.5.1\"><span class=\"toc-item-num\">6.5.1&nbsp;&nbsp;</span>TUESDAY December 8, 2020</a></span></li><li><span><a href=\"#THURSDAY-December-10,-2020\" data-toc-modified-id=\"THURSDAY-December-10,-2020-6.5.2\"><span class=\"toc-item-num\">6.5.2&nbsp;&nbsp;</span>THURSDAY December 10, 2020</a></span></li></ul></li><li><span><a href=\"#FINAL-HANDOFF\" data-toc-modified-id=\"FINAL-HANDOFF-6.6\"><span class=\"toc-item-num\">6.6&nbsp;&nbsp;</span>FINAL HANDOFF</a></span></li><li><span><a href=\"#REPORT\" data-toc-modified-id=\"REPORT-6.7\"><span class=\"toc-item-num\">6.7&nbsp;&nbsp;</span>REPORT</a></span></li></ul></li></ul></div>"
   ]
  },
  {
   "cell_type": "code",
   "execution_count": 44,
   "metadata": {
    "hide_input": true
   },
   "outputs": [],
   "source": [
    "\n",
    "icons = {'meeting': 1754107, 'skills': 2765987, 'brainstorming': 2765992,  'prototype': 2086195, 'feedback': 1431177, 'building': 3204050, 'handoff': 3484929, 'presentation': 28971, 'diversity': 52927, 'success': 2909316, 'handshake':3325257 }\n",
    "\n",
    "def display_icon(icon_name):\n",
    "    icon_id = icons[icon_name]\n",
    "    im = Image(url='https://static.thenounproject.com/png/{}-200.png'.format(icon_id))\n",
    "    return im"
   ]
  },
  {
   "cell_type": "markdown",
   "metadata": {},
   "source": [
    "## Course Details\n",
    "Prof. Chris Warren  \n",
    "cnwarren@cmu.edu  \n",
    "Fall 2020  \n",
    "Tuesdays and Thursdays 3:20-4:40 pm  \n",
    "* Virtual Office Hours Mondays 3-4:30 [link via Canvas]  \n",
    "* Digital Humanities Office Hours: Wednesdays 1-4 [[signup](https://cmu.libcal.com/calendar/events/?cid=7168&t=d&d=0000-00-00&cal=7168&inc=0), [email](mailto:dsharp@andrew.cmu?subject=Consultation%20for%20Data%20Stories)]"
   ]
  },
  {
   "cell_type": "code",
   "execution_count": 45,
   "metadata": {
    "hide_input": true
   },
   "outputs": [
    {
     "data": {
      "text/html": [
       "<img src=\"https://static.thenounproject.com/png/52927-200.png\"/>"
      ],
      "text/plain": [
       "<IPython.core.display.Image object>"
      ]
     },
     "execution_count": 45,
     "metadata": {},
     "output_type": "execute_result"
    }
   ],
   "source": [
    "display_icon('diversity')"
   ]
  },
  {
   "cell_type": "markdown",
   "metadata": {},
   "source": [
    "## Respect for Diversity\n",
    "It is my intent that students from all diverse backgrounds and perspectives be well served by this course, that students’ learning needs be addressed both in and out of class, and that the diversity that students bring to this class be viewed as a resource, strength and benefit. I intend to present materials and activities that are respectful of diversity: gender, sexuality, disability, age, socioeconomic status, ethnicity, race, and culture. Your suggestions are encouraged and appreciated. Please let me know ways to improve the effectiveness of the course for you personally or for other students or student groups. In addition, if any of our class meetings conflict with your religious events, please let me know so that we can make arrangements for you."
   ]
  },
  {
   "cell_type": "code",
   "execution_count": 46,
   "metadata": {},
   "outputs": [
    {
     "data": {
      "text/html": [
       "<img src=\"https://static.thenounproject.com/png/3325257-200.png\"/>"
      ],
      "text/plain": [
       "<IPython.core.display.Image object>"
      ]
     },
     "execution_count": 46,
     "metadata": {},
     "output_type": "execute_result"
    }
   ],
   "source": [
    "display_icon('handshake')"
   ]
  },
  {
   "cell_type": "markdown",
   "metadata": {
    "hide_input": false
   },
   "source": [
    "## What Students Can Expect From the Course\n",
    "\n",
    "This course is a “learn by doing” introduction to questions and methods in digital humanities, with special emphases on common tasks in digital history, digital literary studies, library science, and cultural analytics.  Students will tackle real-world humanities problems while developing core computational competencies such as those required for gathering data (text mining, APIs), transforming data (OCR, regular expressions, natural language processing, image magick), file management (shell commands), data visualization (matplotlib, arcGIS), and more."
   ]
  },
  {
   "cell_type": "code",
   "execution_count": 47,
   "metadata": {},
   "outputs": [
    {
     "data": {
      "text/html": [
       "<img src=\"https://static.thenounproject.com/png/2909316-200.png\"/>"
      ],
      "text/plain": [
       "<IPython.core.display.Image object>"
      ]
     },
     "execution_count": 47,
     "metadata": {},
     "output_type": "execute_result"
    }
   ],
   "source": [
    "display_icon('success')"
   ]
  },
  {
   "cell_type": "markdown",
   "metadata": {},
   "source": [
    "## How Will We Know if We've Succeeded?"
   ]
  },
  {
   "cell_type": "markdown",
   "metadata": {},
   "source": [
    "The course will be a success if (a.) students develop transferable technical skills applicable in research, teaching, and advocacy in the humanities and (b.) students assist NHA's mission.  "
   ]
  },
  {
   "cell_type": "code",
   "execution_count": 48,
   "metadata": {},
   "outputs": [
    {
     "data": {
      "text/html": [
       "<img src=\"https://i.imgur.com/6dXhvA4.png\"/>"
      ],
      "text/plain": [
       "<IPython.core.display.Image object>"
      ]
     },
     "execution_count": 48,
     "metadata": {},
     "output_type": "execute_result"
    }
   ],
   "source": [
    "Image(url='https://i.imgur.com/6dXhvA4.png')"
   ]
  },
  {
   "cell_type": "markdown",
   "metadata": {},
   "source": [
    "## Coping with the Pandemic\n",
    "\n",
    "We are living together through an anxious and tumultuous time. Within the culture of this class, we happen to have the relationship of professor and student. However, we are fellow humans first and foremost. Your wellbeing, the welfare of our shared civil society, and our collective planetary citizenship are more important to me than whether you complete the obligations for this course in the most exemplary fashion. Please take good care of yourself and the people you love, and communicate with me if you need accommodations."
   ]
  },
  {
   "cell_type": "markdown",
   "metadata": {},
   "source": [
    "## Software and Tools\n",
    "\n",
    "Please install the following software and tools on your computer.\n",
    "- SublimeText 3 (https://www.sublimetext.com/3)\n",
    "- Tropy (https://tropy.org/)\n",
    "- Jupyter Notebooks, with Nbexternsions enabled\n",
    " (part of Homework 1 (https://programminghistorian.org/en/lessons/jupyter-notebooks))\n",
    "- Zotero (https://www.zotero.org/)\n",
    "- ImageMagick - https://imagemagick.org/script/download.php"
   ]
  },
  {
   "cell_type": "markdown",
   "metadata": {},
   "source": [
    "### Resources\n",
    "* [Python for Data Science](https://colab.research.google.com/github/jakevdp/PythonDataScienceHandbook/blob/master/notebooks/Index.ipynb)\n",
    "* [Python Tutor](http://pythontutor.com/live.html#mode=edit)\n",
    "* [MIT Missing Semester Course](https://missing.csail.mit.edu/)\n",
    "* [Digital Humanities Literacy Guidebook](https://cmu-lib.github.io/dhlg/)"
   ]
  },
  {
   "cell_type": "markdown",
   "metadata": {},
   "source": [
    "# Key Waypoints\n",
    "\n",
    "- Midterm Client Presentation\n",
    "- Final Client Presentation\n",
    "- Handoff of Deliverables\n",
    "- Report"
   ]
  },
  {
   "cell_type": "markdown",
   "metadata": {},
   "source": [
    "# Collaboration with National Humanities Alliance\n",
    "\n",
    "An exiting aspect of this course will be the opportunity to partner with the National Humanities Alliance.  The expectation is that all interactions with National Humanities Alliance staff will be cordial and professional.  "
   ]
  },
  {
   "cell_type": "code",
   "execution_count": 49,
   "metadata": {},
   "outputs": [
    {
     "data": {
      "text/html": [
       "<img src=\"https://d3n8a8pro7vhmx.cloudfront.net/nhalliance/sites/14/meta_images/original/NHA_Logo_Primary_Horz_Oneline_rgb.jpg?1532527297\"/>"
      ],
      "text/plain": [
       "<IPython.core.display.Image object>"
      ]
     },
     "execution_count": 49,
     "metadata": {},
     "output_type": "execute_result"
    }
   ],
   "source": [
    "Image(url='https://d3n8a8pro7vhmx.cloudfront.net/nhalliance/sites/14/meta_images/original/NHA_Logo_Primary_Horz_Oneline_rgb.jpg?1532527297')"
   ]
  },
  {
   "cell_type": "code",
   "execution_count": 50,
   "metadata": {
    "hide_input": true,
    "scrolled": false
   },
   "outputs": [
    {
     "data": {
      "text/html": [
       "<iframe src=\"https://docs.google.com/presentation/d/e/2PACX-1vQPFzob4wROoYrBBNUOWIdUBSBu6bKFaJob6HIbSnJAZ8lRYoNLugUVScbNISwJEfvJZA2fV1caP6On/embed?start=false&loop=false&delayms=3000\" frameborder=\"0\" width=\"960\" height=\"569\" allowfullscreen=\"true\" mozallowfullscreen=\"true\" webkitallowfullscreen=\"true\"></iframe>"
      ],
      "text/plain": [
       "<IPython.core.display.HTML object>"
      ]
     },
     "execution_count": 50,
     "metadata": {},
     "output_type": "execute_result"
    }
   ],
   "source": [
    "HTML('<iframe src=\"https://docs.google.com/presentation/d/e/2PACX-1vQPFzob4wROoYrBBNUOWIdUBSBu6bKFaJob6HIbSnJAZ8lRYoNLugUVScbNISwJEfvJZA2fV1caP6On/embed?start=false&loop=false&delayms=3000\" frameborder=\"0\" width=\"960\" height=\"569\" allowfullscreen=\"true\" mozallowfullscreen=\"true\" webkitallowfullscreen=\"true\"></iframe>')"
   ]
  },
  {
   "cell_type": "markdown",
   "metadata": {},
   "source": [
    "# Preliminary Schedule"
   ]
  },
  {
   "cell_type": "markdown",
   "metadata": {},
   "source": [
    "# The Most Important Secret About Digital Humanities\n",
    "\n",
    "Everyone Googles everything.  \n",
    "All. The. Time.  \n",
    "Just Google it.  The answer is probably on [Stack Overflow](https://stackoverflow.com/).\n",
    "\n",
    "(I just Googled how to do a new line in Markdown.  Turns out you need two spaces after your text)."
   ]
  },
  {
   "cell_type": "markdown",
   "metadata": {},
   "source": [
    "### TUESDAY September 1, 2020\n",
    "\n",
    "Introductions, Syllabus, Student Survey\n",
    "\n"
   ]
  },
  {
   "cell_type": "markdown",
   "metadata": {},
   "source": [
    "## WEEK 1 KICKOFF MEETING"
   ]
  },
  {
   "cell_type": "markdown",
   "metadata": {
    "hide_input": true
   },
   "source": [
    "### THURSDAY September 3, 2020\n",
    "\n",
    "ASSIGNMENT DUE: **Jupyter Notebooks**\n",
    "\n",
    "* Dombrowski, Quinn, Tassie Gniady, and David Kloster. “Introduction to Jupyter Notebooks.” Programming Historian, December 8, 2019. https://programminghistorian.org/en/lessons/jupyter-notebooks.\n",
    "* [Python for Humanties Ch. 1 via Canvas](https://nbviewer.jupyter.org/github/fbkarsdorp/python-course/blob/master/Chapter%201%20-%20Getting%20started.ipynb)"
   ]
  },
  {
   "cell_type": "code",
   "execution_count": 51,
   "metadata": {
    "hide_input": true
   },
   "outputs": [
    {
     "data": {
      "text/html": [
       "<img src=\"https://static.thenounproject.com/png/1754107-200.png\"/>"
      ],
      "text/plain": [
       "<IPython.core.display.Image object>"
      ]
     },
     "execution_count": 51,
     "metadata": {},
     "output_type": "execute_result"
    }
   ],
   "source": [
    "display_icon('meeting')"
   ]
  },
  {
   "cell_type": "markdown",
   "metadata": {},
   "source": [
    "## WEEKS 2-6 SKILL BUILDING"
   ]
  },
  {
   "cell_type": "markdown",
   "metadata": {},
   "source": [
    "The first several sessions will be devoted to developing specific skills:\n",
    "\n",
    "* Jupyter Notebooks\n",
    "* Command Line\n",
    "* Python Fundamentals\n",
    "* Natural Language Processing\n",
    "* Pandas\n",
    "* Viewing and Manipulating Images\n",
    "* Matplotlib\n",
    "* APIs\n",
    "* ArcGIS\n",
    "\n",
    "Along the way, we'll encounter some neat tricks to make the most out of core Humanities research tools like Zotero and Tropy. \n"
   ]
  },
  {
   "cell_type": "markdown",
   "metadata": {},
   "source": [
    "### TUESDAY September 8, 2020\n",
    "\n",
    "ASSIGNMENT DUE:  **Command Line**  \n",
    "1.) Milligan, Ian, and James Baker. “Introduction to the Bash Command Line.” Programming Historian, September 20, 2014. https://programminghistorian.org/en/lessons/intro-to-bash.\n",
    "2.) https://missing.csail.mit.edu/2020/course-shell/\n",
    "\n",
    "**Resources**\n",
    "\n",
    "[Interactive Shell Scripting feedback](https://www.shellcheck.net/)\n",
    "\n",
    "\n",
    "**EXTRA**  \n",
    "Introduction to ArcGIS Online & ArcGIS Story Maps  \n",
    "Tuesday, September 8, 2020  \n",
    "2:00pm - 3:30pm  \n",
    "https://pitt.libcal.com/calendar/today/storymaps\n"
   ]
  },
  {
   "cell_type": "code",
   "execution_count": 52,
   "metadata": {
    "hide_input": false
   },
   "outputs": [
    {
     "data": {
      "text/html": [
       "<img src=\"https://static.thenounproject.com/png/2765987-200.png\"/>"
      ],
      "text/plain": [
       "<IPython.core.display.Image object>"
      ]
     },
     "execution_count": 52,
     "metadata": {},
     "output_type": "execute_result"
    }
   ],
   "source": [
    "display_icon('skills')"
   ]
  },
  {
   "cell_type": "markdown",
   "metadata": {
    "hide_input": true
   },
   "source": [
    "### THURSDAY September 10, 2020\n",
    "\n",
    "ASSIGNMENT DUE: **Python Fundamentals** \n",
    "\n",
    "* [Python for Humanties Ch. 2]\n",
    "\n",
    "**Resources**\n",
    "\n",
    "* Python Tutor http://pythontutor.com/live.html#mode=edit\n",
    "* [Introduction to Programming with Python and EarSketch](https://earsketch.gatech.edu/itec2120/book.html#_chapter_one_getting_started)\n",
    "\n",
    "**EXTRA**  \n",
    "Git & GitHub Part I  \n",
    "Thursday, September 10, 2020  \n",
    "1:00pm - 3:00pm  \n",
    "https://pitt.libcal.com/calendar/today/git1v"
   ]
  },
  {
   "cell_type": "code",
   "execution_count": 53,
   "metadata": {
    "hide_input": false
   },
   "outputs": [
    {
     "data": {
      "text/html": [
       "<img src=\"https://static.thenounproject.com/png/2765987-200.png\"/>"
      ],
      "text/plain": [
       "<IPython.core.display.Image object>"
      ]
     },
     "execution_count": 53,
     "metadata": {},
     "output_type": "execute_result"
    }
   ],
   "source": [
    "display_icon('skills')"
   ]
  },
  {
   "cell_type": "markdown",
   "metadata": {},
   "source": [
    "### TUESDAY September 15, 2020\n"
   ]
  },
  {
   "cell_type": "code",
   "execution_count": null,
   "metadata": {},
   "outputs": [],
   "source": [
    "\n"
   ]
  },
  {
   "cell_type": "code",
   "execution_count": 54,
   "metadata": {},
   "outputs": [
    {
     "data": {
      "text/html": [
       "<img src=\"https://static.thenounproject.com/png/2765987-200.png\"/>"
      ],
      "text/plain": [
       "<IPython.core.display.Image object>"
      ]
     },
     "execution_count": 54,
     "metadata": {},
     "output_type": "execute_result"
    }
   ],
   "source": [
    "display_icon('skills')"
   ]
  },
  {
   "cell_type": "markdown",
   "metadata": {},
   "source": [
    "### THURSDAY September 17, 2020\n",
    "\n",
    "**Natural Language Processing**\n",
    "\n",
    "ASSIGNMENT DUE: \n",
    "\n",
    "1.) [Interactive Regex Tutorial](https://regexone.com/)\n",
    "2.) O’Hara, Laura Turner. “Cleaning OCR’d Text with Regular Expressions.” Programming Historian, May 22, 2013. https://programminghistorian.org/en/lessons/cleaning-ocrd-text-with-regular-expressions.\n",
    "\n"
   ]
  },
  {
   "cell_type": "code",
   "execution_count": 55,
   "metadata": {},
   "outputs": [
    {
     "data": {
      "text/html": [
       "<img src=\"https://static.thenounproject.com/png/2765987-200.png\"/>"
      ],
      "text/plain": [
       "<IPython.core.display.Image object>"
      ]
     },
     "execution_count": 55,
     "metadata": {},
     "output_type": "execute_result"
    }
   ],
   "source": [
    "display_icon('skills')"
   ]
  },
  {
   "cell_type": "markdown",
   "metadata": {},
   "source": [
    "### TUESDAY September 22, 2020\n",
    "\n",
    "**Pandas**\n",
    "\n",
    "ASSIGNMENT DUE: \n",
    "\n",
    "1.) [Google Colab Intro to Pandas](https://colab.research.google.com/notebooks/mlcc/intro_to_pandas.ipynb)\n",
    "2.) [Python Data Science Handbook](https://colab.research.google.com/github/jakevdp/PythonDataScienceHandbook/blob/master/notebooks/03.00-Introduction-to-Pandas.ipynb)"
   ]
  },
  {
   "cell_type": "code",
   "execution_count": 56,
   "metadata": {},
   "outputs": [
    {
     "data": {
      "text/html": [
       "<img src=\"https://static.thenounproject.com/png/2765987-200.png\"/>"
      ],
      "text/plain": [
       "<IPython.core.display.Image object>"
      ]
     },
     "execution_count": 56,
     "metadata": {},
     "output_type": "execute_result"
    }
   ],
   "source": [
    "display_icon('skills')"
   ]
  },
  {
   "cell_type": "markdown",
   "metadata": {},
   "source": [
    "### THURSDAY September 24, 2020\n",
    "ASSIGNMENT DUE:  **Viewing and Manipulating Images**"
   ]
  },
  {
   "cell_type": "code",
   "execution_count": 57,
   "metadata": {},
   "outputs": [
    {
     "data": {
      "text/html": [
       "<img src=\"https://static.thenounproject.com/png/2765987-200.png\"/>"
      ],
      "text/plain": [
       "<IPython.core.display.Image object>"
      ]
     },
     "execution_count": 57,
     "metadata": {},
     "output_type": "execute_result"
    }
   ],
   "source": [
    "display_icon('skills')"
   ]
  },
  {
   "cell_type": "markdown",
   "metadata": {},
   "source": [
    "### TUESDAY September 29, 2020\n",
    "ASSIGNMENT DUE: **Matplotlib**\n",
    "\n",
    "https://colab.research.google.com/github/jakevdp/PythonDataScienceHandbook/blob/master/notebooks/04.00-Introduction-To-Matplotlib.ipynb#scrollTo=zwz1g6IWaIkv\n"
   ]
  },
  {
   "cell_type": "markdown",
   "metadata": {},
   "source": [
    "### THURSDAY October 1, 2020\n",
    "ASSIGNMENT DUE:  **APIs**"
   ]
  },
  {
   "cell_type": "markdown",
   "metadata": {},
   "source": [
    "### TUESDAY October 6, 2020\n",
    "ASSIGNMENT DUE:  **ArcGIS**"
   ]
  },
  {
   "cell_type": "markdown",
   "metadata": {},
   "source": [
    "## WEEK 6 PRESENTATIONS\n",
    "\n",
    "Student teams will present proposals to National Humanities Alliance staff."
   ]
  },
  {
   "cell_type": "code",
   "execution_count": 58,
   "metadata": {},
   "outputs": [
    {
     "data": {
      "text/html": [
       "<img src=\"https://static.thenounproject.com/png/2765992-200.png\"/>"
      ],
      "text/plain": [
       "<IPython.core.display.Image object>"
      ]
     },
     "execution_count": 58,
     "metadata": {},
     "output_type": "execute_result"
    }
   ],
   "source": [
    "display_icon('brainstorming')"
   ]
  },
  {
   "cell_type": "markdown",
   "metadata": {},
   "source": [
    "### THURSDAY October 8, 2020\n",
    "ASSIGNMENT DUE:\n",
    "\n",
    "**Extra**  \n",
    "Cleaning Untidy Data with OpenRefine  \n",
    "Thursday, October 8, 2020  \n",
    "12:00pm - 1:30pm  \n",
    "https://cmu.libcal.com/event/6940955"
   ]
  },
  {
   "cell_type": "code",
   "execution_count": 59,
   "metadata": {},
   "outputs": [
    {
     "data": {
      "text/html": [
       "<img src=\"https://static.thenounproject.com/png/28971-200.png\"/>"
      ],
      "text/plain": [
       "<IPython.core.display.Image object>"
      ]
     },
     "execution_count": 59,
     "metadata": {},
     "output_type": "execute_result"
    }
   ],
   "source": [
    "display_icon('presentation')"
   ]
  },
  {
   "cell_type": "markdown",
   "metadata": {},
   "source": [
    "## WEEKS 7-14 ITERATIVE BUILDING"
   ]
  },
  {
   "cell_type": "markdown",
   "metadata": {},
   "source": [
    "### TUESDAY October 13, 2020\n",
    "\n",
    "**ArcGIS with Susan Grunewald**\n",
    "\n",
    "ASSIGNMENT DUE:\n",
    "\n",
    "\n",
    "**Extra**  \n",
    "Data Management for the Humanities  \n",
    "Tuesday, October 13, 2020  \n",
    "6:00pm - 7:00pm  \n",
    "https://cmu.libcal.com/calendar/workshops/DMforHumanities"
   ]
  },
  {
   "cell_type": "code",
   "execution_count": 60,
   "metadata": {},
   "outputs": [
    {
     "data": {
      "text/html": [
       "<img src=\"https://static.thenounproject.com/png/2086195-200.png\"/>"
      ],
      "text/plain": [
       "<IPython.core.display.Image object>"
      ]
     },
     "execution_count": 60,
     "metadata": {},
     "output_type": "execute_result"
    }
   ],
   "source": [
    "display_icon('prototype')"
   ]
  },
  {
   "cell_type": "markdown",
   "metadata": {},
   "source": [
    "### THURSDAY October 15, 2020\n",
    "ASSIGNMENT DUE:"
   ]
  },
  {
   "cell_type": "code",
   "execution_count": 61,
   "metadata": {},
   "outputs": [
    {
     "data": {
      "text/html": [
       "<img src=\"https://static.thenounproject.com/png/2086195-200.png\"/>"
      ],
      "text/plain": [
       "<IPython.core.display.Image object>"
      ]
     },
     "execution_count": 61,
     "metadata": {},
     "output_type": "execute_result"
    }
   ],
   "source": [
    "display_icon('prototype')"
   ]
  },
  {
   "cell_type": "markdown",
   "metadata": {},
   "source": [
    "### TUESDAY October 20, 2020\n",
    "ASSIGNMENT DUE:"
   ]
  },
  {
   "cell_type": "code",
   "execution_count": 62,
   "metadata": {},
   "outputs": [
    {
     "data": {
      "text/html": [
       "<img src=\"https://static.thenounproject.com/png/1431177-200.png\"/>"
      ],
      "text/plain": [
       "<IPython.core.display.Image object>"
      ]
     },
     "execution_count": 62,
     "metadata": {},
     "output_type": "execute_result"
    }
   ],
   "source": [
    "display_icon('feedback')"
   ]
  },
  {
   "cell_type": "markdown",
   "metadata": {},
   "source": [
    "### THURSDAY October 22, 2020\n",
    "ASSIGNMENT DUE:"
   ]
  },
  {
   "cell_type": "code",
   "execution_count": 63,
   "metadata": {},
   "outputs": [
    {
     "data": {
      "text/html": [
       "<img src=\"https://static.thenounproject.com/png/3204050-200.png\"/>"
      ],
      "text/plain": [
       "<IPython.core.display.Image object>"
      ]
     },
     "execution_count": 63,
     "metadata": {},
     "output_type": "execute_result"
    }
   ],
   "source": [
    "display_icon('building')"
   ]
  },
  {
   "cell_type": "markdown",
   "metadata": {},
   "source": [
    "### TUESDAY October 27, 2020\n",
    "ASSIGNMENT DUE:"
   ]
  },
  {
   "cell_type": "code",
   "execution_count": 64,
   "metadata": {},
   "outputs": [
    {
     "data": {
      "text/html": [
       "<img src=\"https://static.thenounproject.com/png/1431177-200.png\"/>"
      ],
      "text/plain": [
       "<IPython.core.display.Image object>"
      ]
     },
     "execution_count": 64,
     "metadata": {},
     "output_type": "execute_result"
    }
   ],
   "source": [
    "display_icon('feedback')"
   ]
  },
  {
   "cell_type": "markdown",
   "metadata": {},
   "source": [
    "### THURSDAY October 29, 2020\n",
    "ASSIGNMENT DUE:"
   ]
  },
  {
   "cell_type": "code",
   "execution_count": 65,
   "metadata": {},
   "outputs": [
    {
     "data": {
      "text/html": [
       "<img src=\"https://static.thenounproject.com/png/3204050-200.png\"/>"
      ],
      "text/plain": [
       "<IPython.core.display.Image object>"
      ]
     },
     "execution_count": 65,
     "metadata": {},
     "output_type": "execute_result"
    }
   ],
   "source": [
    "display_icon('building')"
   ]
  },
  {
   "cell_type": "markdown",
   "metadata": {},
   "source": [
    "**Extra**  \n",
    "Reproducible Plotting with Python in Jupyter Notebook  \n",
    "Monday, November 2, 2020  \n",
    "4:00pm - 6:00pm  \n",
    "https://cmu.libcal.com/event/6941118"
   ]
  },
  {
   "cell_type": "markdown",
   "metadata": {},
   "source": [
    "### TUESDAY November 3, 2020\n",
    "ASSIGNMENT DUE:"
   ]
  },
  {
   "cell_type": "code",
   "execution_count": 66,
   "metadata": {},
   "outputs": [
    {
     "data": {
      "text/html": [
       "<img src=\"https://static.thenounproject.com/png/1431177-200.png\"/>"
      ],
      "text/plain": [
       "<IPython.core.display.Image object>"
      ]
     },
     "execution_count": 66,
     "metadata": {},
     "output_type": "execute_result"
    }
   ],
   "source": [
    "display_icon('feedback')"
   ]
  },
  {
   "cell_type": "markdown",
   "metadata": {},
   "source": [
    "### THURSDAY November 5, 2020\n",
    "ASSIGNMENT DUE:"
   ]
  },
  {
   "cell_type": "code",
   "execution_count": 67,
   "metadata": {},
   "outputs": [
    {
     "data": {
      "text/html": [
       "<img src=\"https://static.thenounproject.com/png/3204050-200.png\"/>"
      ],
      "text/plain": [
       "<IPython.core.display.Image object>"
      ]
     },
     "execution_count": 67,
     "metadata": {},
     "output_type": "execute_result"
    }
   ],
   "source": [
    "display_icon('building')"
   ]
  },
  {
   "cell_type": "markdown",
   "metadata": {},
   "source": [
    "### TUESDAY November 10, 2020\n",
    "ASSIGNMENT DUE:"
   ]
  },
  {
   "cell_type": "code",
   "execution_count": 68,
   "metadata": {},
   "outputs": [
    {
     "data": {
      "text/html": [
       "<img src=\"https://static.thenounproject.com/png/1431177-200.png\"/>"
      ],
      "text/plain": [
       "<IPython.core.display.Image object>"
      ]
     },
     "execution_count": 68,
     "metadata": {},
     "output_type": "execute_result"
    }
   ],
   "source": [
    "display_icon('feedback')"
   ]
  },
  {
   "cell_type": "markdown",
   "metadata": {},
   "source": [
    "### THURSDAY November 12, 2020\n",
    "ASSIGNMENT DUE:"
   ]
  },
  {
   "cell_type": "code",
   "execution_count": 69,
   "metadata": {},
   "outputs": [
    {
     "data": {
      "text/html": [
       "<img src=\"https://static.thenounproject.com/png/3204050-200.png\"/>"
      ],
      "text/plain": [
       "<IPython.core.display.Image object>"
      ]
     },
     "execution_count": 69,
     "metadata": {},
     "output_type": "execute_result"
    }
   ],
   "source": [
    "display_icon('building')"
   ]
  },
  {
   "cell_type": "markdown",
   "metadata": {},
   "source": [
    "### TUESDAY November 17, 2020\n",
    "ASSIGNMENT DUE:"
   ]
  },
  {
   "cell_type": "code",
   "execution_count": 70,
   "metadata": {},
   "outputs": [
    {
     "data": {
      "text/html": [
       "<img src=\"https://static.thenounproject.com/png/1431177-200.png\"/>"
      ],
      "text/plain": [
       "<IPython.core.display.Image object>"
      ]
     },
     "execution_count": 70,
     "metadata": {},
     "output_type": "execute_result"
    }
   ],
   "source": [
    "display_icon('feedback')"
   ]
  },
  {
   "cell_type": "markdown",
   "metadata": {},
   "source": [
    "### THURSDAY November 19, 2020\n",
    "ASSIGNMENT DUE:"
   ]
  },
  {
   "cell_type": "code",
   "execution_count": 71,
   "metadata": {},
   "outputs": [
    {
     "data": {
      "text/html": [
       "<img src=\"https://static.thenounproject.com/png/3204050-200.png\"/>"
      ],
      "text/plain": [
       "<IPython.core.display.Image object>"
      ]
     },
     "execution_count": 71,
     "metadata": {},
     "output_type": "execute_result"
    }
   ],
   "source": [
    "display_icon('building')"
   ]
  },
  {
   "cell_type": "markdown",
   "metadata": {},
   "source": [
    "### TUESDAY November 24, 2020\n",
    "ASSIGNMENT DUE:"
   ]
  },
  {
   "cell_type": "code",
   "execution_count": 72,
   "metadata": {},
   "outputs": [
    {
     "data": {
      "text/html": [
       "<img src=\"https://static.thenounproject.com/png/1431177-200.png\"/>"
      ],
      "text/plain": [
       "<IPython.core.display.Image object>"
      ]
     },
     "execution_count": 72,
     "metadata": {},
     "output_type": "execute_result"
    }
   ],
   "source": [
    "display_icon('feedback')"
   ]
  },
  {
   "cell_type": "markdown",
   "metadata": {},
   "source": [
    "### THURSDAY November 26, 2020\n",
    "ASSIGNMENT DUE:  THANKSGIVING"
   ]
  },
  {
   "cell_type": "markdown",
   "metadata": {},
   "source": [
    "### TUESDAY December 1, 2020\n",
    "ASSIGNMENT DUE:"
   ]
  },
  {
   "cell_type": "code",
   "execution_count": 73,
   "metadata": {},
   "outputs": [
    {
     "data": {
      "text/html": [
       "<img src=\"https://static.thenounproject.com/png/3204050-200.png\"/>"
      ],
      "text/plain": [
       "<IPython.core.display.Image object>"
      ]
     },
     "execution_count": 73,
     "metadata": {},
     "output_type": "execute_result"
    }
   ],
   "source": [
    "display_icon('building')"
   ]
  },
  {
   "cell_type": "markdown",
   "metadata": {},
   "source": [
    "### THURSDAY December 3, 2020\n",
    "ASSIGNMENT DUE:"
   ]
  },
  {
   "cell_type": "code",
   "execution_count": 74,
   "metadata": {},
   "outputs": [
    {
     "data": {
      "text/html": [
       "<img src=\"https://static.thenounproject.com/png/1431177-200.png\"/>"
      ],
      "text/plain": [
       "<IPython.core.display.Image object>"
      ]
     },
     "execution_count": 74,
     "metadata": {},
     "output_type": "execute_result"
    }
   ],
   "source": [
    "display_icon('feedback')"
   ]
  },
  {
   "cell_type": "markdown",
   "metadata": {},
   "source": [
    "## WEEK 15 FINAL PRESENTATIONS"
   ]
  },
  {
   "cell_type": "markdown",
   "metadata": {},
   "source": [
    "### TUESDAY December 8, 2020\n",
    "ASSIGNMENT DUE:"
   ]
  },
  {
   "cell_type": "code",
   "execution_count": 75,
   "metadata": {},
   "outputs": [
    {
     "data": {
      "text/html": [
       "<img src=\"https://static.thenounproject.com/png/28971-200.png\"/>"
      ],
      "text/plain": [
       "<IPython.core.display.Image object>"
      ]
     },
     "execution_count": 75,
     "metadata": {},
     "output_type": "execute_result"
    }
   ],
   "source": [
    "display_icon('presentation')"
   ]
  },
  {
   "cell_type": "markdown",
   "metadata": {},
   "source": [
    "### THURSDAY December 10, 2020\n",
    "ASSIGNMENT DUE:"
   ]
  },
  {
   "cell_type": "code",
   "execution_count": 76,
   "metadata": {},
   "outputs": [
    {
     "data": {
      "text/html": [
       "<img src=\"https://static.thenounproject.com/png/28971-200.png\"/>"
      ],
      "text/plain": [
       "<IPython.core.display.Image object>"
      ]
     },
     "execution_count": 76,
     "metadata": {},
     "output_type": "execute_result"
    }
   ],
   "source": [
    "display_icon('presentation')"
   ]
  },
  {
   "cell_type": "markdown",
   "metadata": {},
   "source": [
    "## FINAL HANDOFF"
   ]
  },
  {
   "cell_type": "code",
   "execution_count": 77,
   "metadata": {},
   "outputs": [
    {
     "data": {
      "text/html": [
       "<img src=\"https://static.thenounproject.com/png/3484929-200.png\"/>"
      ],
      "text/plain": [
       "<IPython.core.display.Image object>"
      ]
     },
     "execution_count": 77,
     "metadata": {},
     "output_type": "execute_result"
    }
   ],
   "source": [
    "display_icon('handoff')"
   ]
  },
  {
   "cell_type": "markdown",
   "metadata": {},
   "source": [
    "## REPORT\n",
    "\n",
    "Students will produce reports reflecting on the strengths and limitations of their projects.   "
   ]
  },
  {
   "cell_type": "markdown",
   "metadata": {},
   "source": [
    "[Link to Notebook on Survey Responses](./Survey_Responses.ipynb)"
   ]
  },
  {
   "cell_type": "code",
   "execution_count": null,
   "metadata": {
    "hide_input": true
   },
   "outputs": [],
   "source": []
  }
 ],
 "metadata": {
  "hide_input": false,
  "kernelspec": {
   "display_name": "Python 3",
   "language": "python",
   "name": "python3"
  },
  "language_info": {
   "codemirror_mode": {
    "name": "ipython",
    "version": 3
   },
   "file_extension": ".py",
   "mimetype": "text/x-python",
   "name": "python",
   "nbconvert_exporter": "python",
   "pygments_lexer": "ipython3",
   "version": "3.7.4"
  },
  "toc": {
   "base_numbering": 1,
   "nav_menu": {},
   "number_sections": true,
   "sideBar": true,
   "skip_h1_title": false,
   "title_cell": "Table of Contents",
   "title_sidebar": "Contents",
   "toc_cell": true,
   "toc_position": {},
   "toc_section_display": true,
   "toc_window_display": true
  },
  "varInspector": {
   "cols": {
    "lenName": 16,
    "lenType": 16,
    "lenVar": 40
   },
   "kernels_config": {
    "python": {
     "delete_cmd_postfix": "",
     "delete_cmd_prefix": "del ",
     "library": "var_list.py",
     "varRefreshCmd": "print(var_dic_list())"
    },
    "r": {
     "delete_cmd_postfix": ") ",
     "delete_cmd_prefix": "rm(",
     "library": "var_list.r",
     "varRefreshCmd": "cat(var_dic_list()) "
    }
   },
   "types_to_exclude": [
    "module",
    "function",
    "builtin_function_or_method",
    "instance",
    "_Feature"
   ],
   "window_display": false
  }
 },
 "nbformat": 4,
 "nbformat_minor": 2
}
