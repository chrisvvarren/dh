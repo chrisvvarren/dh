{
 "cells": [
  {
   "cell_type": "code",
   "execution_count": 4,
   "metadata": {},
   "outputs": [],
   "source": [
    "import re"
   ]
  },
  {
   "cell_type": "code",
   "execution_count": 5,
   "metadata": {},
   "outputs": [],
   "source": [
    "\n",
    "#Open the text file, and read the text file into a list\n",
    "with open('PH_RegEx_Cong_Dir.txt', encoding=\"utf8\", errors='ignore') as ocr:\n",
    "    Text = ocr.readlines()\n",
    "\n",
    "#Create an empty list to fill with lines of corrected text\n",
    "CleanText = []\n",
    "\n",
    "# checks each line in the imported text file for all the following patterns\n",
    "for line in Text:\n",
    "    #lines with multi-dashes contain data - searches for those lines\n",
    "    # -- does not isolate intro text lines with one dash.\n",
    "    dashes = re.search('(--+)', line)\n",
    "\n",
    "    #isolates lines with dashes and cleans\n",
    "    if dashes:\n",
    "        #replaces dashes with my chosen delimiter\n",
    "        nodash = re.sub('.(-+)', ',', line)\n",
    "        #strikes multiple periods\n",
    "        nodots = re.sub('.(\\.\\.+)', '', nodash)\n",
    "        #strikes extra spaces\n",
    "        nospaces = re.sub('(  +)', ',', nodots)\n",
    "        #strikes *\n",
    "        nostar = re.sub('.[*]', '', nospaces)\n",
    "        #strikes new line and comma at the beginning of the line\n",
    "        flushleft = re.sub('^\\W', '', nostar)\n",
    "        #getting rid of double commas (i.e. - Evarts)\n",
    "        comma = re.sub(',{2,3}', ',', flushleft)\n",
    "        #cleaning up some words that are stuck together (i.e. -  Dawes, Manderson)\n",
    "        #skips double OO that was put in place of 00 in address\n",
    "        caps = re.sub('[A-N|P-Z]{2,}', ',', comma)\n",
    "        #Clean up NE and NW quadrant indicators by removing periods\n",
    "        ne = re.sub('(\\,*? N\\. ?E.)', ' NE', caps)\n",
    "        nw = re.sub('(\\,*? N\\. ?W[\\.\\,]*?_?)$', ' NW', ne) #MAKE VERBOSE\n",
    "        #Replace periods with commas between last and first names (i.e. - Chace, Cockrell)\n",
    "        match = re.search('^([A-Z][a-z]+\\. )', nw) #MAKE VERBOSE\n",
    "        if match:\n",
    "            names = re.sub('\\.', ',', nw)\n",
    "        else:\n",
    "            names = nw\n",
    "           #Append each line to CleanText list while it loops through\n",
    "        CleanText.append(names)\n",
    "\n"
   ]
  },
  {
   "cell_type": "code",
   "execution_count": 7,
   "metadata": {},
   "outputs": [],
   "source": [
    "#Saving into a 'fake' csv file\n",
    "with open('PH_OCR_Regex_OUT.csv', 'w') as fcsv:\n",
    "    #Write each line in CleanText to a file\n",
    "    for line in CleanText:\n",
    "        fcsv.write(line)"
   ]
  },
  {
   "cell_type": "code",
   "execution_count": 6,
   "metadata": {},
   "outputs": [
    {
     "data": {
      "text/plain": [
       "['Aldrich, N. ,R,Providence, R. ,912 Nineteenth st., N. W,102\\n',\n",
       " 'Allen, John ,R,Walla Walls, Wash __,1232 Massachusetts avenue 117\\n',\n",
       " 'Allison, William B,R,Dubuque, Iow,1124,Vermont avenue,39\\n',\n",
       " 'Barbour, John S,. .,D,Alexandria, V,14,B street, N. ,114\\n',\n",
       " 'Bate, William ,D,Nashville, Ten,Ebbi,io6\\n',\n",
       " 'Beck, James ,D,Lexington, Ky,206,P street, N. , 45\\n',\n",
       " 'Berry, James H,D,Bentonville, Ar,Metropolita,20\\n',\n",
       " ',lackburn, Jos. C. S,D,Versailles,K,Ebbit,45\\n',\n",
       " 'Blair, Henry ,R,Manchester, N. H,201 East Capitol street,73\\n',\n",
       " 'Blodgett, Rufu,D,Long Branch, N. J Nationa,74\\n',\n",
       " 'Brown, Joseph ,D,Atlanta, G,Nationa,27\\n',\n",
       " 'Butler, M. C,D,EdgefleldS. ,434Nstreet,N.,03\\n',\n",
       " 'Cameron, J. ,R,Harrisburg, P,21 Lafayette Squar, 95\\n',\n",
       " 'Casey, Lyman R,R,JmestownN.Da,87\\n',\n",
       " 'Chandler, William E, R Concord, N. ,1421 I street, N., 73\\n',\n",
       " 'Cockrell, Francis M,D,Warrenshurgh, M,15s8 R street, N.,66\\n',\n",
       " 'Coke, Richar,D,Waco, Te,507 E street,N. ,i0\\n',\n",
       " 'Colquitt, Alfred H, D Atlanta, G,228 New Jersey ave., S. E_ 28\\n',\n",
       " 'Cullom, Shelby ,R,Springfield, Il,1726 Massachusetts avenue 30\\n',\n",
       " 'Daniel, John ,D,Lynchhurgh, V,170,Nineteenth st., N. W. 114\\n',\n",
       " \"Davis, Cushman,R,St. Paul, Min,1428 Mass. ave., N. ,62'\\n\",\n",
       " 'Dawes, Henry,R,Pittsfeld,Mas,54\\n',\n",
       " 'Dixon, Nathan ,R,Westerly, R. ,The Arn,102\\n',\n",
       " 'Dolph, Joseph ,R,Portland, Orego,8 Lafayette Squar, 94\\n',\n",
       " 'Edmunds, GeorgeF,R,Burlington,V,2111 Massachusetts avenue. 113\\n',\n",
       " 'Eustis, James ,D,New,Orleans, L,1761 N street, N. , 48\\n',\n",
       " 'Farwell, Charles ,R,Chicago, I1,The Shoreha,30\\n',\n",
       " 'Faulkner, Charles Jas,D,Martinsburgh, W. V,113 First street NE 117\\n',\n",
       " 'Frye, William ,R,Lewiston, Me,Hamilto,,50\\n',\n",
       " ' George, James ,D,Carrollton, Miss, 15o P street, N.W,64\\n',\n",
       " 'Gibson, Randall Lee,D,New,Orleans, L,7723 Rhode Islandavenue,48\\n',\n",
       " 'f l Gorman, Arthur P, D Laurel,M,1403,Kstreet,N.W,52\\n',\n",
       " 'Gray, George,Wilmington, De,814 Fifteenth street, N. W_ 25\\n',\n",
       " 'Hale, Eugen,R,Ellsworth M,1014,Vermont avenue,50\\n',\n",
       " 'Hampton,Wad,D,Columbia,S. ,Metropolita,103\\n',\n",
       " 'Harris, Isham ,D,Memphis,Tenn, 13 First,street NE107\\n',\n",
       " '11 Hawley, Joseph R,R,Hartford, Con,2030,street, N. W,24\\n',\n",
       " 'HearstGeorg,D,San Francisco, Cal,Welcker,21\\n',\n",
       " 'Higgins, Anthon,R,Wilmington, De,Metropolitan Club, Box4,26\\n',\n",
       " 'Hicock Fr,R,Syracuse, N. V, Arlington,7\\n',\n",
       " '\" Hiscock, Fran,17\\n',\n",
       " 'Hoar, George ,R,Worcester Mass , , 4 Lafayette Squar,54\\n',\n",
       " 'Ingalls, J. ,R,Atchison, Kan,x B street, N,42\\n',\n",
       " '( Jones, James K ,D,Washington, Ar,915 M,street, ,\\n',\n",
       " 'Jones, John P_,R,Gold Hill, Nev,72\\n',\n",
       " '~jj~ j~ Knna Jon E D,Charleston, W. Va,224 A stree, S.,\\n',\n",
       " 'Mc llan~ames, Nashvril, Te, 14Vron vne, 5\\n']"
      ]
     },
     "execution_count": 6,
     "metadata": {},
     "output_type": "execute_result"
    }
   ],
   "source": [
    "CleanText"
   ]
  },
  {
   "cell_type": "code",
   "execution_count": null,
   "metadata": {},
   "outputs": [],
   "source": []
  }
 ],
 "metadata": {
  "hide_input": false,
  "kernelspec": {
   "display_name": "Python 3",
   "language": "python",
   "name": "python3"
  },
  "language_info": {
   "codemirror_mode": {
    "name": "ipython",
    "version": 3
   },
   "file_extension": ".py",
   "mimetype": "text/x-python",
   "name": "python",
   "nbconvert_exporter": "python",
   "pygments_lexer": "ipython3",
   "version": "3.7.4"
  },
  "toc": {
   "base_numbering": 1,
   "nav_menu": {},
   "number_sections": true,
   "sideBar": true,
   "skip_h1_title": false,
   "title_cell": "Table of Contents",
   "title_sidebar": "Contents",
   "toc_cell": false,
   "toc_position": {},
   "toc_section_display": true,
   "toc_window_display": false
  }
 },
 "nbformat": 4,
 "nbformat_minor": 2
}
