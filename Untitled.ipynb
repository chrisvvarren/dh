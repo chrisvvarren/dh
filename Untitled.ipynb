{
 "cells": [
  {
   "cell_type": "code",
   "execution_count": 6,
   "id": "61f53f51",
   "metadata": {},
   "outputs": [
    {
     "name": "stdout",
     "output_type": "stream",
     "text": [
      "hi emma\n"
     ]
    }
   ],
   "source": [
    "with open('/Users/user/Box/Teaching (CMU)/Intro to DH/F21 Intro to DH/dh/data/plaintext-example-files/austen.txt') as infile:\n",
    "    print('hi emma')"
   ]
  },
  {
   "cell_type": "code",
   "execution_count": 1,
   "id": "0ae0fd4e",
   "metadata": {},
   "outputs": [],
   "source": [
    "import os"
   ]
  },
  {
   "cell_type": "code",
   "execution_count": 4,
   "id": "3a962714",
   "metadata": {},
   "outputs": [
    {
     "data": {
      "text/plain": [
       "['.ipynb_checkpoints',\n",
       " '2021-academic-calendar.xlsx',\n",
       " 'Admin',\n",
       " 'Admin_2',\n",
       " 'Angels and Diplomats',\n",
       " 'Applying to PhDs',\n",
       " 'Big Historical Data S17 RTC',\n",
       " 'charis med letter.docx',\n",
       " 'charis med letter.pdf',\n",
       " 'Course Descriptions and Book Orders',\n",
       " 'course_dates_template.csv',\n",
       " 'CSI Underground Books and Printing',\n",
       " 'Data Stories',\n",
       " 'DH Summer Workshop',\n",
       " 'Digital Literary and Cultural Studies',\n",
       " 'Exam Proposal Draft.STRAUB.WITTEK.EDIT1_cw.docx',\n",
       " 'F16 Shakespeare',\n",
       " 'F16 Teaching',\n",
       " 'F18 course descriptions.docx',\n",
       " 'F18 T-TH Teaching Dates.docx',\n",
       " 'filed-amicus-brief-of-59-institutions-of-higher-ed.pdf',\n",
       " 'Folger Out of the Archives',\n",
       " 'Global Renaissance',\n",
       " 'God',\n",
       " 'Grad Students',\n",
       " 'Great Renaissance Poems FB thread.txt',\n",
       " 'HumAn_IS.pdf',\n",
       " 'icons',\n",
       " 'Intro to British Poetry',\n",
       " 'Intro to DH',\n",
       " 'Law Culture and the Humanities',\n",
       " 'Ling.jpg',\n",
       " 'Milton',\n",
       " 'Nathan Nikolic',\n",
       " 'Non-Shakespearean Drama',\n",
       " 'OLI_Groups.pdf',\n",
       " 'Renaissance Internationalism',\n",
       " 'ResearchPresentationRubric.docx',\n",
       " 'S14 Shakespeare Tragedies and Histories',\n",
       " 'S15 Shakespeare Tragedies and Histories',\n",
       " 'SDFB (Teaching)',\n",
       " 'Shakespeare and the Law',\n",
       " 'Shakespeare Comedies and Romances',\n",
       " 'Shax ReDesign',\n",
       " 'student_publications',\n",
       " 'syallabus_template.md',\n",
       " 'Text Data',\n",
       " 'Tillotson_1686_Sermons_and_discourses._some_o.pdf',\n",
       " 'Undergrad Rec Letters',\n",
       " 'Untitled.ipynb',\n",
       " 'Young-Guidelines for Good Papers-1.pdf',\n",
       " 'Z_APIs-NounProject.ipynb']"
      ]
     },
     "execution_count": 4,
     "metadata": {},
     "output_type": "execute_result"
    }
   ],
   "source": [
    "os.listdir('/Users/user/Box/Teaching (CMU)/')"
   ]
  },
  {
   "cell_type": "code",
   "execution_count": null,
   "id": "7a131ac3",
   "metadata": {},
   "outputs": [],
   "source": []
  }
 ],
 "metadata": {
  "hide_input": false,
  "kernelspec": {
   "display_name": "Python 3",
   "language": "python",
   "name": "python3"
  },
  "language_info": {
   "codemirror_mode": {
    "name": "ipython",
    "version": 3
   },
   "file_extension": ".py",
   "mimetype": "text/x-python",
   "name": "python",
   "nbconvert_exporter": "python",
   "pygments_lexer": "ipython3",
   "version": "3.7.4"
  },
  "toc": {
   "base_numbering": 1,
   "nav_menu": {},
   "number_sections": true,
   "sideBar": true,
   "skip_h1_title": false,
   "title_cell": "Table of Contents",
   "title_sidebar": "Contents",
   "toc_cell": false,
   "toc_position": {},
   "toc_section_display": true,
   "toc_window_display": false
  }
 },
 "nbformat": 4,
 "nbformat_minor": 5
}
